{
 "cells": [
  {
   "cell_type": "code",
   "execution_count": 1,
   "metadata": {},
   "outputs": [],
   "source": [
    "import numpy\n",
    "import simpy\n",
    "import random"
   ]
  },
  {
   "cell_type": "code",
   "execution_count": null,
   "metadata": {},
   "outputs": [],
   "source": []
  },
  {
   "cell_type": "code",
   "execution_count": 44,
   "metadata": {},
   "outputs": [],
   "source": [
    "SERVER1REQUESTMEDIAN=0.7\n",
    "SERVER2REQUESTMEDIAN=1.0\n",
    "PSERVER1=0.6\n",
    "PSERVER2=1-PSERVER1\n",
    "\n",
    "SERVER3REQUESTMEDIAN=0.8 #MODELO2\n",
    "\n",
    "REQUESTINTERVALMEDIAN=4.0\n",
    "REQUESTCOUNT=100000"
   ]
  },
  {
   "cell_type": "markdown",
   "metadata": {},
   "source": [
    "## MODELO1"
   ]
  },
  {
   "cell_type": "code",
   "execution_count": 45,
   "metadata": {},
   "outputs": [],
   "source": [
    "def source2(env, number, interval, server1, server2, data):\n",
    "    \"\"\"Source generates requests randomly\"\"\"\n",
    "    for i in range(number):\n",
    "        if random.random()<=PSERVER1:\n",
    "            c = request(env, 'Request%02d' % i, server1, SERVER1REQUESTMEDIAN, data)\n",
    "            env.process(c)\n",
    "            t = random.expovariate(1.0 / interval)\n",
    "            yield env.timeout(t)\n",
    "        else:\n",
    "            c = request(env, 'Request%02d' % i, server2, SERVER2REQUESTMEDIAN, data)\n",
    "            env.process(c)\n",
    "            t = random.expovariate(1.0 / interval)\n",
    "            yield env.timeout(t)\n",
    "            \n",
    "def request(env, name, server, requesttime, data):\n",
    "    \"\"\"Request arrives, and is resolved\"\"\"\n",
    "    arrive = env.now\n",
    "\n",
    "    with server.request() as req:\n",
    "        \n",
    "        results = yield req\n",
    "\n",
    "        wait = env.now - arrive\n",
    "        if wait>0:\n",
    "            data[0]+=wait\n",
    "            data[1]+=1\n",
    "        \n",
    "        tib = random.expovariate(1.0 / requesttime)\n",
    "        yield env.timeout(tib)\n",
    "        total_wait = env.now - arrive\n",
    "        data[2]+=total_wait\n",
    "        "
   ]
  },
  {
   "cell_type": "code",
   "execution_count": 46,
   "metadata": {},
   "outputs": [],
   "source": [
    "env2=simpy.Environment()\n",
    "server1=simpy.Resource(env2, 1)\n",
    "server2=simpy.Resource(env2, 1)\n",
    "\n",
    "data=[0,0,0]\n",
    "\n",
    "env2.process(source2(env2, REQUESTCOUNT, REQUESTINTERVALMEDIAN, server1, server2, data))\n",
    "env2.run()"
   ]
  },
  {
   "cell_type": "markdown",
   "metadata": {},
   "source": [
    "## MODELO2"
   ]
  },
  {
   "cell_type": "code",
   "execution_count": 47,
   "metadata": {},
   "outputs": [],
   "source": [
    "def source(env, number, interval, server, data):\n",
    "    \"\"\"Source generates requests randomly\"\"\"\n",
    "    for i in range(number):\n",
    "        c = request(env, 'Request%02d' % i, server, SERVER3REQUESTMEDIAN, data)\n",
    "        env.process(c)\n",
    "        t = random.expovariate(1.0 / interval)\n",
    "        yield env.timeout(t)\n"
   ]
  },
  {
   "cell_type": "code",
   "execution_count": 48,
   "metadata": {
    "scrolled": false
   },
   "outputs": [],
   "source": [
    "acum_tiempo=0\n",
    "\n",
    "env=simpy.Environment()\n",
    "server1=simpy.Resource(env, 1)\n",
    "server2=simpy.Resource(env, 1)\n",
    "\n",
    "\n",
    "data2=[0,0,0]\n",
    "\n",
    "env.process(source(env, REQUESTCOUNT, REQUESTINTERVALMEDIAN, server1, data2))\n",
    "env.run()"
   ]
  },
  {
   "cell_type": "markdown",
   "metadata": {},
   "source": [
    "## RESULTADOS MODELO1"
   ]
  },
  {
   "cell_type": "code",
   "execution_count": 49,
   "metadata": {},
   "outputs": [
    {
     "name": "stdout",
     "output_type": "stream",
     "text": [
      "El tiempo medio de cola de las requests es  0.0933\n",
      "El porcentaje total de requests que no tuvieron que esperar es  0.1032: \n",
      "El tiempo medio de cola mas procesamiento es  0.9118\n"
     ]
    }
   ],
   "source": [
    "print('El tiempo medio de cola de las requests es %7.4f' % (data[0]/float(REQUESTCOUNT)))\n",
    "print('El porcentaje total de requests que no tuvieron que esperar es %7.4f: ' % (data[1]/float(REQUESTCOUNT)))\n",
    "print('El tiempo medio de cola mas procesamiento es %7.4f' % (data[2]/float(REQUESTCOUNT)))"
   ]
  },
  {
   "cell_type": "markdown",
   "metadata": {},
   "source": [
    "## RESULTADOS MODELO2"
   ]
  },
  {
   "cell_type": "code",
   "execution_count": 50,
   "metadata": {},
   "outputs": [
    {
     "name": "stdout",
     "output_type": "stream",
     "text": [
      "El tiempo medio de cola de las requests es  0.2044\n",
      "El porcentaje total de requests que no tuvieron que esperar es  0.2009: \n",
      "El tiempo medio de cola mas procesamiento es  1.0062\n"
     ]
    }
   ],
   "source": [
    "print('El tiempo medio de cola de las requests es %7.4f' % (data2[0]/float(REQUESTCOUNT)))\n",
    "print('El porcentaje total de requests que no tuvieron que esperar es %7.4f: ' % (data2[1]/float(REQUESTCOUNT)))\n",
    "print('El tiempo medio de cola mas procesamiento es %7.4f' % (data2[2]/float(REQUESTCOUNT)))"
   ]
  },
  {
   "cell_type": "markdown",
   "metadata": {},
   "source": [
    "## CONCLUSION"
   ]
  },
  {
   "cell_type": "code",
   "execution_count": 51,
   "metadata": {},
   "outputs": [
    {
     "name": "stdout",
     "output_type": "stream",
     "text": [
      "Es conveniente elegir el modelo 2 ya que el tiempo medio para resolver cada solicitud no es 50% menor usando el modelo 1\n"
     ]
    }
   ],
   "source": [
    "if data[2]<data2[2]*0.5:\n",
    "    print('Es conveniente elegir el modelo 1 ya que el tiempo medio para resolver cada solicitud es 50% menor que usando el modelo 2')\n",
    "else: print('Es conveniente elegir el modelo 2 ya que el tiempo medio para resolver cada solicitud no es 50% menor usando el modelo 1')"
   ]
  }
 ],
 "metadata": {
  "kernelspec": {
   "display_name": "Python 3",
   "language": "python",
   "name": "python3"
  },
  "language_info": {
   "codemirror_mode": {
    "name": "ipython",
    "version": 2
   },
   "file_extension": ".py",
   "mimetype": "text/x-python",
   "name": "python",
   "nbconvert_exporter": "python",
   "pygments_lexer": "ipython2",
   "version": "2.7.15+"
  }
 },
 "nbformat": 4,
 "nbformat_minor": 2
}
